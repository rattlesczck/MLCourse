{
 "cells": [
  {
   "cell_type": "code",
   "execution_count": 6,
   "metadata": {},
   "outputs": [
    {
     "name": "stdout",
     "output_type": "stream",
     "text": [
      "Fetched 12200 characters from https://python.langchain.com/docs/introduction/\n",
      "Fetched 8690 characters from https://python.langchain.com/v0.2/docs/tutorials/\n",
      "Fetched 82353 characters from https://python.langchain.com/v0.2/docs/concepts/\n",
      "All web pages fetched\n"
     ]
    }
   ],
   "source": [
    "# Using Multithreading for I/O bound tasks like Web scraping\n",
    "# Web scraping involves making numerous network requests to fetch web pages\n",
    "# Hence they spend a lot of time waiting for server responses. Using multithreading would accelerate this process and fetch mutltiple webpages concurrently\n",
    "\n",
    "# https://python.langchain.com/docs/introduction/\n",
    "# https://python.langchain.com/docs/introduction/#tutorials\n",
    "# https://python.langchain.com/docs/introduction/#conceptual-guide\n",
    "\n",
    "import threading\n",
    "import requests\n",
    "from bs4 import BeautifulSoup\n",
    "\n",
    "urls = [\n",
    "\"https://python.langchain.com/docs/introduction/\", \"https://python.langchain.com/v0.2/docs/tutorials/\", \"https://python.langchain.com/v0.2/docs/concepts/\"]\n",
    "\n",
    "\n",
    "def fetchcontent(url):\n",
    "    response = requests.get(url)\n",
    "    soup = BeautifulSoup(response.content, 'html.parser')\n",
    "    print(f'Fetched {(len(soup.text))} characters from {url}')\n",
    "\n",
    "\n",
    "threads = []\n",
    "for url in urls:\n",
    "    thread = threading.Thread(target = fetchcontent, args = (url,))\n",
    "    threads.append(thread)\n",
    "    thread.start()\n",
    "    \n",
    "for thread in threads:\n",
    "    thread.join()\n",
    "    \n",
    "print(\"All web pages fetched\")\n",
    "\n",
    "    \n",
    "    \n",
    "\n"
   ]
  }
 ],
 "metadata": {
  "kernelspec": {
   "display_name": "first",
   "language": "python",
   "name": "python3"
  },
  "language_info": {
   "codemirror_mode": {
    "name": "ipython",
    "version": 3
   },
   "file_extension": ".py",
   "mimetype": "text/x-python",
   "name": "python",
   "nbconvert_exporter": "python",
   "pygments_lexer": "ipython3",
   "version": "3.12.5"
  }
 },
 "nbformat": 4,
 "nbformat_minor": 2
}
