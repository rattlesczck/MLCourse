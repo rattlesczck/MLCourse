{
 "cells": [
  {
   "cell_type": "code",
   "execution_count": 4,
   "metadata": {},
   "outputs": [
    {
     "data": {
      "text/plain": [
       "<sqlite3.Connection at 0x254250b95d0>"
      ]
     },
     "execution_count": 4,
     "metadata": {},
     "output_type": "execute_result"
    }
   ],
   "source": [
    "import sqlite3\n",
    "\n",
    "connection = sqlite3.connect('first.db')\n",
    "connection\n"
   ]
  },
  {
   "cell_type": "code",
   "execution_count": 6,
   "metadata": {},
   "outputs": [],
   "source": [
    "cursor = connection.cursor()"
   ]
  },
  {
   "cell_type": "code",
   "execution_count": 7,
   "metadata": {},
   "outputs": [],
   "source": [
    "#creating a table using the same object\n",
    "\n",
    "cursor.execute('''\n",
    "                Create Table if not Exists employees (\n",
    "                    id Integer Primary key, \n",
    "                    name Text Not Null, \n",
    "                    age Integer, \n",
    "                    department Text\n",
    "                )''')\n",
    "\n",
    "#commit the changes\n",
    "connection.commit()"
   ]
  },
  {
   "cell_type": "code",
   "execution_count": 11,
   "metadata": {},
   "outputs": [
    {
     "data": {
      "text/plain": [
       "<sqlite3.Cursor at 0x254255d78c0>"
      ]
     },
     "execution_count": 11,
     "metadata": {},
     "output_type": "execute_result"
    }
   ],
   "source": [
    "cursor.execute('''\n",
    "               Select * from employees''')"
   ]
  },
  {
   "cell_type": "code",
   "execution_count": 15,
   "metadata": {},
   "outputs": [],
   "source": [
    "#Inserting some data into a sqlite3 database\n",
    "\n",
    "\n",
    "cursor.execute('''\n",
    "                Insert into employees(name, age, department) \n",
    "                values('Yashita', 20, 'DevOps'\n",
    "                )''')\n",
    "\n",
    "cursor.execute('''\n",
    "                Insert into employees(name, age, department) \n",
    "                values('Freya', 21, 'Masseuse'\n",
    "                )''')\n",
    "\n",
    "cursor.execute('''Insert into employees(name, age, department) \n",
    "                values('Anston', 20, 'SDE'\n",
    "                )''')\n",
    "\n",
    "#Commit after every insertion\n",
    "connection.commit()"
   ]
  },
  {
   "cell_type": "code",
   "execution_count": 17,
   "metadata": {},
   "outputs": [
    {
     "name": "stdout",
     "output_type": "stream",
     "text": [
      "(1, 'Yashita', 20, 'DevOps')\n",
      "(2, 'Freya', 21, 'Masseuse')\n",
      "(3, 'Anston', 20, 'SDE')\n"
     ]
    }
   ],
   "source": [
    "#Querying any data\n",
    "\n",
    "cursor.execute('''\n",
    "               Select * from employees\n",
    "               ''')\n",
    "\n",
    "rows = cursor.fetchall() #fetchall is a command that we use to get all the records from the select * command\n",
    "\n",
    "#Printing the queried data\n",
    "\n",
    "for row in rows:\n",
    "    print(row)"
   ]
  },
  {
   "cell_type": "code",
   "execution_count": 22,
   "metadata": {},
   "outputs": [],
   "source": [
    "#Updating the data in the table\n",
    "\n",
    "cursor.execute('''\n",
    "               Update employees \n",
    "               Set age = 9 Where name =\"Freya\"\n",
    "               ''')\n",
    "\n",
    "connection.commit()"
   ]
  },
  {
   "cell_type": "code",
   "execution_count": 23,
   "metadata": {},
   "outputs": [
    {
     "name": "stdout",
     "output_type": "stream",
     "text": [
      "(1, 'Yashita', 20, 'DevOps')\n",
      "(2, 'Freya', 9, 'Masseuse')\n",
      "(3, 'Anston', 20, 'SDE')\n"
     ]
    }
   ],
   "source": [
    "cursor.execute('''\n",
    "              Select * from employees''')\n",
    "\n",
    "rows = cursor.fetchall()\n",
    "\n",
    "for row in rows:\n",
    "    print(row)"
   ]
  },
  {
   "cell_type": "code",
   "execution_count": 25,
   "metadata": {},
   "outputs": [],
   "source": [
    "#Delete the data from the table\n",
    "\n",
    "cursor.execute(''' \n",
    "               Delete from employees \n",
    "               Where name = 'Freya' \n",
    "               ''')\n",
    "\n",
    "connection.commit()"
   ]
  },
  {
   "cell_type": "code",
   "execution_count": 26,
   "metadata": {},
   "outputs": [
    {
     "name": "stdout",
     "output_type": "stream",
     "text": [
      "(1, 'Yashita', 20, 'DevOps')\n",
      "(3, 'Anston', 20, 'SDE')\n"
     ]
    }
   ],
   "source": [
    "cursor.execute('''\n",
    "              Select * from employees''')\n",
    "\n",
    "rows = cursor.fetchall()\n",
    "\n",
    "for row in rows:\n",
    "    print(row)"
   ]
  },
  {
   "cell_type": "code",
   "execution_count": 27,
   "metadata": {},
   "outputs": [
    {
     "data": {
      "text/plain": [
       "<sqlite3.Connection at 0x254259b36a0>"
      ]
     },
     "execution_count": 27,
     "metadata": {},
     "output_type": "execute_result"
    }
   ],
   "source": [
    "#Working with sales data\n",
    "\n",
    "connection1 = sqlite3.connect('sales.db')\n",
    "connection1"
   ]
  },
  {
   "cell_type": "code",
   "execution_count": 31,
   "metadata": {},
   "outputs": [],
   "source": [
    "cursor = connection1.cursor()\n",
    "\n",
    "#create table\n",
    "cursor.execute(''' \n",
    "               CREATE TABLE IF NOT EXISTS sales(\n",
    "                   id INTEGER PRIMARY KEY,\n",
    "                   date Text NOT NULL,\n",
    "                   product TEXT NOT NULL,\n",
    "                   sales INTEGER,\n",
    "                   region TEXT)''')\n",
    "\n",
    "sales_data = [\n",
    "    ('2023-01-01', 'Product1', 100, 'North'),\n",
    "    ('2023-01-02', 'Product2', 200, 'South'),\n",
    "    ('2023-01-03', 'Product1', 150, 'East'),\n",
    "    ('2023-01-04', 'Product3', 250, 'West'),\n",
    "    ('2023-01-05', 'Product2', 300, 'North')\n",
    "]\n",
    "\n",
    "connection1.commit()"
   ]
  },
  {
   "cell_type": "code",
   "execution_count": 32,
   "metadata": {},
   "outputs": [],
   "source": [
    "#inserting bulk data into the table\n",
    "\n",
    "cursor.executemany('''\n",
    "                   Insert into sales(date, product, sales, region)\n",
    "                   values(?,?,?,?) \n",
    "                   ''', sales_data)\n",
    "\n",
    "connection1.commit()"
   ]
  },
  {
   "cell_type": "code",
   "execution_count": 33,
   "metadata": {},
   "outputs": [
    {
     "name": "stdout",
     "output_type": "stream",
     "text": [
      "(1, '2023-01-01', 'Product1', 100, 'North')\n",
      "(2, '2023-01-02', 'Product2', 200, 'South')\n",
      "(3, '2023-01-03', 'Product1', 150, 'East')\n",
      "(4, '2023-01-04', 'Product3', 250, 'West')\n",
      "(5, '2023-01-05', 'Product2', 300, 'North')\n",
      "(6, '2023-01-01', 'Product1', 100, 'North')\n",
      "(7, '2023-01-02', 'Product2', 200, 'South')\n",
      "(8, '2023-01-03', 'Product1', 150, 'East')\n",
      "(9, '2023-01-04', 'Product3', 250, 'West')\n",
      "(10, '2023-01-05', 'Product2', 300, 'North')\n"
     ]
    }
   ],
   "source": [
    "cursor.execute(''' Select * from sales''')\n",
    "rows = cursor.fetchall()\n",
    "\n",
    "for row in rows:\n",
    "    print(row)"
   ]
  },
  {
   "cell_type": "code",
   "execution_count": null,
   "metadata": {},
   "outputs": [],
   "source": [
    "#closing the connection\n",
    "\n",
    "connection1.close()\n",
    "#once this command is run, there is no connection to the database. any other execute commands will fail for work"
   ]
  }
 ],
 "metadata": {
  "kernelspec": {
   "display_name": "first",
   "language": "python",
   "name": "python3"
  },
  "language_info": {
   "codemirror_mode": {
    "name": "ipython",
    "version": 3
   },
   "file_extension": ".py",
   "mimetype": "text/x-python",
   "name": "python",
   "nbconvert_exporter": "python",
   "pygments_lexer": "ipython3",
   "version": "3.12.5"
  }
 },
 "nbformat": 4,
 "nbformat_minor": 2
}
