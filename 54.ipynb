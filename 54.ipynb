{
 "cells": [
  {
   "cell_type": "code",
   "execution_count": 1,
   "metadata": {},
   "outputs": [
    {
     "name": "stdout",
     "output_type": "stream",
     "text": [
      "this is a numpy array [1 2 3 4 5 7]\n",
      "the shape of this array is  (6,)\n",
      "New array and its shape is  [1 2 3 4 5] (5,)\n",
      "[[1 2 3 4 5]] (1, 5)\n"
     ]
    }
   ],
   "source": [
    "import numpy as np\n",
    "\n",
    "arr1 = np.array([1,2,3,4,5,7])\n",
    "print(\"this is a numpy array\",arr1)\n",
    "print(\"the shape of this array is \", arr1.shape)\n",
    "\n",
    "#converting the numpy array from one dimension to two dimension\n",
    "arr2 = np.array([1,2,3,4,5])\n",
    "arr2.reshape(1,5)\n",
    "print(\"New array and its shape is \", arr2, arr2.shape)\n",
    "arr3 = np.array([[1,2,3,4,5]])\n",
    "print(arr3, arr3.shape)"
   ]
  },
  {
   "cell_type": "code",
   "execution_count": 11,
   "metadata": {},
   "outputs": [
    {
     "name": "stdout",
     "output_type": "stream",
     "text": [
      "[[0]\n",
      " [2]\n",
      " [4]\n",
      " [6]\n",
      " [8]]\n"
     ]
    }
   ],
   "source": [
    "#to create numpy arrays of a range\n",
    "np.arange(0,10,2).reshape(5,1)\n",
    "arr4 = np.arange(0,10,2)\n",
    "arr4 = arr4.reshape(5,1) #arr.reshape(rows,cols) returns another new reshaped array which is to be changed. \n",
    "print(arr4)"
   ]
  },
  {
   "cell_type": "code",
   "execution_count": 16,
   "metadata": {},
   "outputs": [
    {
     "name": "stdout",
     "output_type": "stream",
     "text": [
      "[[1. 1. 1. 1.]\n",
      " [1. 1. 1. 1.]\n",
      " [1. 1. 1. 1.]]\n"
     ]
    },
    {
     "data": {
      "text/plain": [
       "array([[0., 0., 0., 0.],\n",
       "       [0., 0., 0., 0.],\n",
       "       [0., 0., 0., 0.]])"
      ]
     },
     "execution_count": 16,
     "metadata": {},
     "output_type": "execute_result"
    }
   ],
   "source": [
    "#create array with all ones\n",
    "print(np.ones((3,4))) #np.ones(rows, cols)\n",
    "\n",
    "#create array with all zeroes\n",
    "np.zeros((3,4))"
   ]
  },
  {
   "cell_type": "code",
   "execution_count": 18,
   "metadata": {},
   "outputs": [
    {
     "name": "stdout",
     "output_type": "stream",
     "text": [
      "Element wise addition [ 8 10 12 14 16]\n",
      "Element wise multilication [ 7 16 27 40 55]\n",
      "Element wise subtraction [-6 -6 -6 -6 -6]\n",
      "Element wise division [0.14285714 0.25       0.33333333 0.4        0.45454545]\n"
     ]
    }
   ],
   "source": [
    "###Numpy vectorized operations\n",
    "\n",
    "arr1 = np.array([1,2,3,4,5])\n",
    "arr2 = np.array([7,8,9,10,11])\n",
    "\n",
    "print(\"Element wise addition\", arr1+arr2)\n",
    "print(\"Element wise multilication\", arr1*arr2)\n",
    "print(\"Element wise subtraction\", arr1-arr2)\n",
    "print(\"Element wise division\", arr1/arr2)\n",
    " "
   ]
  },
  {
   "cell_type": "code",
   "execution_count": 20,
   "metadata": {},
   "outputs": [
    {
     "name": "stdout",
     "output_type": "stream",
     "text": [
      "Element wise square root [1.         1.41421356 1.73205081 2.         2.23606798]\n",
      "Element wise exponential [  2.71828183   7.3890561   20.08553692  54.59815003 148.4131591 ]\n"
     ]
    }
   ],
   "source": [
    "arr4 = np.array([1,2,3,4,5])\n",
    "print(\"Element wise square root\", np.sqrt(arr4))\n",
    "\n",
    "print(\"Element wise exponential\", np.exp(arr4))\n",
    "#same way we can do SINE and LOG "
   ]
  },
  {
   "cell_type": "code",
   "execution_count": 29,
   "metadata": {},
   "outputs": [
    {
     "name": "stdout",
     "output_type": "stream",
     "text": [
      "[[ 1  2  3  4]\n",
      " [ 5  6  7  8]\n",
      " [ 9 10 11 12]]\n",
      "first element in the 2d array is : 1\n",
      "specific slicing of array  [[ 7  8]\n",
      " [11 12]]\n",
      "again doing the same  [[3 4]\n",
      " [7 8]]\n",
      "\n",
      "Again doing the same but for my practice [[ 6  7]\n",
      " [10 11]]\n"
     ]
    }
   ],
   "source": [
    "#Array sliciing and indexing\n",
    "arr = np.array([[1,2,3,4], [5,6,7,8], [9,10,11,12]])\n",
    "print(arr)\n",
    "print(\"first element in the 2d array is :\", arr[0][0])\n",
    "\n",
    "print(\"specific slicing of array \", arr[1: , 2:])\n",
    "\n",
    "print(\"again doing the same \", arr[0:2 , 2:])\n",
    "\n",
    "\n",
    "print()\n",
    "print(\"Again doing the same but for my practice\", arr[1: , 1:3])\n"
   ]
  },
  {
   "cell_type": "code",
   "execution_count": 31,
   "metadata": {},
   "outputs": [
    {
     "name": "stdout",
     "output_type": "stream",
     "text": [
      "modifying an entire column\n",
      "[[100   2   3   4]\n",
      " [100 100 100 100]\n",
      " [100 100 100 100]]\n"
     ]
    }
   ],
   "source": [
    "## Modifying elements\n",
    "arr[0][0] = 100\n",
    "arr\n",
    "\n",
    "print(\"modifying an entire array\")\n",
    "arr[1:] = 100 #all elements after 1st row have values as 100\n",
    "print(arr)"
   ]
  },
  {
   "cell_type": "code",
   "execution_count": 35,
   "metadata": {},
   "outputs": [
    {
     "name": "stdout",
     "output_type": "stream",
     "text": [
      "[-1.41421356 -0.70710678  0.          0.70710678  1.41421356] 0.0\n"
     ]
    }
   ],
   "source": [
    "# Statistical concept Normalization \n",
    "# converting your data to have a mean of 0 and a standard deviation of 1\n",
    "\n",
    "arrr = np.array([1,2,3,4,5])\n",
    "means = np.mean(arrr)\n",
    "stand = np.std(arrr)\n",
    "\n",
    "normalizeddata = (arrr - means) / stand\n",
    "print(normalizeddata, np.mean(normalizeddata))\n",
    "#other functions np.var , np.median  "
   ]
  },
  {
   "cell_type": "code",
   "execution_count": 37,
   "metadata": {},
   "outputs": [
    {
     "name": "stdout",
     "output_type": "stream",
     "text": [
      "[False False False False False  True  True  True  True]\n",
      "[4 5 6 7 8 9]\n"
     ]
    }
   ],
   "source": [
    "# Logical statements \n",
    "data = np.array([1,2,3,4,5,6,7,8,9])\n",
    "print(data > 5) #returns an array which checks the condition for each element in data   \n",
    "\n",
    "#specific retrieval of data\n",
    "print(data[data > 3])"
   ]
  }
 ],
 "metadata": {
  "kernelspec": {
   "display_name": "first",
   "language": "python",
   "name": "python3"
  },
  "language_info": {
   "codemirror_mode": {
    "name": "ipython",
    "version": 3
   },
   "file_extension": ".py",
   "mimetype": "text/x-python",
   "name": "python",
   "nbconvert_exporter": "python",
   "pygments_lexer": "ipython3",
   "version": "3.12.5"
  }
 },
 "nbformat": 4,
 "nbformat_minor": 2
}
