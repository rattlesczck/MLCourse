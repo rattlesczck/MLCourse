{
 "cells": [
  {
   "cell_type": "code",
   "execution_count": 8,
   "metadata": {},
   "outputs": [
    {
     "name": "stdout",
     "output_type": "stream",
     "text": [
      "Number 0\n",
      "Letter a\n",
      "Number 1\n",
      "Letter b\n",
      "Number 2Letter c\n",
      "\n",
      "Letter dNumber 3\n",
      "\n",
      "Letter eNumber 4\n",
      "\n",
      "10.013481140136719\n"
     ]
    }
   ],
   "source": [
    "#67 was pure theory on definition of program, process, thread (single and multithreading) \n",
    "\n",
    "#This is lecture 68 --> multithreading with python\n",
    "\n",
    "#When to use multithreading\n",
    "\n",
    "# 1) I/O bound tasks --> tasks tht spend more time waiting fr I/O operations (eg: network requests)\n",
    "# 2) When you have the need for concurrent execution\n",
    "\n",
    "import threading\n",
    "import time\n",
    "\n",
    "def printnums():\n",
    "    for i in range(5):\n",
    "        time.sleep(2) #make this sleep for 2 seconds\n",
    "        print(f\"Number {i}\")\n",
    "\n",
    "def printletters():\n",
    "    for i in \"abcde\":\n",
    "        time.sleep(2) #make this for loop sleep for 2 secs\n",
    "        print(f\"Letter {i}\") \n",
    "\n",
    "\n",
    "#Create two threads\n",
    "t1 = threading.Thread(target=printnums)\n",
    "t2 = threading.Thread(target=printletters)\n",
    "\n",
    "#now when one function sleeps, we want the other function to start executing.\n",
    "start = time.time()\n",
    "# printnums()\n",
    "# printletters()\n",
    "t1.start()\n",
    "t2.start()\n",
    "\n",
    "#Wait for both the threds to end executing\n",
    "t1.join()\n",
    "t2.join()\n",
    "\n",
    "end = time.time() - start\n",
    "print(end) \n",
    "\n",
    "#The result of using two threads in this operations is tht the time taken to execute both functions fully is reduced by to half the time"
   ]
  }
 ],
 "metadata": {
  "kernelspec": {
   "display_name": "first",
   "language": "python",
   "name": "python3"
  },
  "language_info": {
   "codemirror_mode": {
    "name": "ipython",
    "version": 3
   },
   "file_extension": ".py",
   "mimetype": "text/x-python",
   "name": "python",
   "nbconvert_exporter": "python",
   "pygments_lexer": "ipython3",
   "version": "3.12.5"
  }
 },
 "nbformat": 4,
 "nbformat_minor": 2
}
