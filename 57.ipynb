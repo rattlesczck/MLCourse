{
 "cells": [
  {
   "cell_type": "code",
   "execution_count": 3,
   "metadata": {},
   "outputs": [
    {
     "data": {
      "text/plain": [
       "[                               Bank Name               City          State  \\\n",
       " 0     The First National Bank of Lindsay            Lindsay       Oklahoma   \n",
       " 1  Republic First Bank dba Republic Bank       Philadelphia   Pennsylvania   \n",
       " 2                          Citizens Bank           Sac City           Iowa   \n",
       " 3               Heartland Tri-State Bank            Elkhart         Kansas   \n",
       " 4                    First Republic Bank      San Francisco     California   \n",
       " 5                         Signature Bank           New York       New York   \n",
       " 6                    Silicon Valley Bank        Santa Clara     California   \n",
       " 7                      Almena State Bank             Almena         Kansas   \n",
       " 8             First City Bank of Florida  Fort Walton Beach        Florida   \n",
       " 9                   The First State Bank      Barboursville  West Virginia   \n",
       " \n",
       "     Cert                 Aquiring Institution      Closing Date  \\\n",
       " 0   4134   First Bank & Trust Co., Duncan, OK  October 18, 2024   \n",
       " 1  27332    Fulton Bank, National Association    April 26, 2024   \n",
       " 2   8758            Iowa Trust & Savings Bank  November 3, 2023   \n",
       " 3  25851               Dream First Bank, N.A.     July 28, 2023   \n",
       " 4  59017            JPMorgan Chase Bank, N.A.       May 1, 2023   \n",
       " 5  57053                  Flagstar Bank, N.A.    March 12, 2023   \n",
       " 6  24735  First Citizens Bank & Trust Company    March 10, 2023   \n",
       " 7  15426                          Equity Bank  October 23, 2020   \n",
       " 8  16748            United Fidelity Bank, fsb  October 16, 2020   \n",
       " 9  14361                       MVB Bank, Inc.     April 3, 2020   \n",
       " \n",
       "    Fund  Sort ascending  \n",
       " 0                 10547  \n",
       " 1                 10546  \n",
       " 2                 10545  \n",
       " 3                 10544  \n",
       " 4                 10543  \n",
       " 5                 10540  \n",
       " 6                 10539  \n",
       " 7                 10538  \n",
       " 8                 10537  \n",
       " 9                 10536  ]"
      ]
     },
     "execution_count": 3,
     "metadata": {},
     "output_type": "execute_result"
    }
   ],
   "source": [
    "# Reading from an HTML file\n",
    "import pandas as pd\n",
    "\n",
    "url = \"https://www.fdic.gov/bank-failures/failed-bank-list\"\n",
    "df = pd.read_html(url)\n",
    "df\n",
    "\n",
    "\n",
    "#same can be done for excel or csv files"
   ]
  }
 ],
 "metadata": {
  "kernelspec": {
   "display_name": "first",
   "language": "python",
   "name": "python3"
  },
  "language_info": {
   "codemirror_mode": {
    "name": "ipython",
    "version": 3
   },
   "file_extension": ".py",
   "mimetype": "text/x-python",
   "name": "python",
   "nbconvert_exporter": "python",
   "pygments_lexer": "ipython3",
   "version": "3.12.5"
  }
 },
 "nbformat": 4,
 "nbformat_minor": 2
}
