{
 "cells": [
  {
   "cell_type": "code",
   "execution_count": null,
   "metadata": {},
   "outputs": [],
   "source": [
    "#Real world use case of multiprocessing\n",
    "# one of these use cases is to calculate the factorial of big numbers\n",
    "import multiprocessing, time, math, sys\n",
    "\n",
    "#increase the max number of digits for integer conversion\n",
    "#needed bcuz the system will interrupt the program if such large calculations r done\n",
    "sys.set_int_max_str_digits(100000)\n",
    "\n",
    "# function to compute factorial for a given number\n",
    "\n",
    "def factorial(n):\n",
    "    print(f\"The factorial of {n}\")\n",
    "    result = math.factorial(n)\n",
    "    print(f\"Factorial of {n} is {result}\")\n",
    "    return result\n",
    "\n",
    "if __name__ == \"__main__\":\n",
    "    nums=[10]\n",
    "    start = time.time()\n",
    "    \n",
    "    #create a pool of worker processes\n",
    "    \n",
    "    with multiprocessing.Pool() as pool:\n",
    "        results = pool.map(factorial, nums)\n",
    "    end = time.time()\n",
    "    print(f'Time take is {end-start}')\n",
    "    \n",
    "\n",
    "\n",
    "\n",
    "\n",
    "\n"
   ]
  }
 ],
 "metadata": {
  "kernelspec": {
   "display_name": "first",
   "language": "python",
   "name": "python3"
  },
  "language_info": {
   "codemirror_mode": {
    "name": "ipython",
    "version": 3
   },
   "file_extension": ".py",
   "mimetype": "text/x-python",
   "name": "python",
   "nbconvert_exporter": "python",
   "pygments_lexer": "ipython3",
   "version": "3.12.5"
  }
 },
 "nbformat": 4,
 "nbformat_minor": 2
}
