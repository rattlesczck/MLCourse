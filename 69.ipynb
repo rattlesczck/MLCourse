{
 "cells": [
  {
   "cell_type": "code",
   "execution_count": 2,
   "metadata": {},
   "outputs": [
    {
     "name": "stdout",
     "output_type": "stream",
     "text": [
      "0.3469979763031006\n"
     ]
    }
   ],
   "source": [
    "# Multiprocessing --> processes that run in parallel\n",
    "\n",
    "#When to use multiprocessing\n",
    "# 1) CPU bound tasks (tasks tht are heavy on the CPU)\n",
    "# 2) Parallel execution: simultaneous use of Multiple cores of the CPU\n",
    "\n",
    "import multiprocessing\n",
    "import time\n",
    "\n",
    "def squarenums():\n",
    "    for i in range(5):\n",
    "        time.sleep(1)\n",
    "        print(f\"Square {i*i}\")\n",
    "\n",
    "def cubenums():\n",
    "    for i in range(5):\n",
    "        time.sleep(1.5)\n",
    "        print(f\"Cube {i*i*i}\")\n",
    "        \n",
    "if __name__ == \"__main__\" :\n",
    "    #Create processes \n",
    "    \n",
    "    p1 = multiprocessing.Process(target = squarenums)\n",
    "    p2 = multiprocessing.Process(target=cubenums)\n",
    "\n",
    "    start = time.time()\n",
    "    # Starting the processes \n",
    "    p1.start()\n",
    "    p2.start()\n",
    "\n",
    "    #Ensuring tht both the processes are completed\n",
    "    p1.join()\n",
    "    p2.join()\n",
    "\n",
    "    finished = time.time() - start\n",
    "    print(finished)\n",
    "\n",
    "\n",
    "\n",
    "\n"
   ]
  }
 ],
 "metadata": {
  "kernelspec": {
   "display_name": "first",
   "language": "python",
   "name": "python3"
  },
  "language_info": {
   "codemirror_mode": {
    "name": "ipython",
    "version": 3
   },
   "file_extension": ".py",
   "mimetype": "text/x-python",
   "name": "python",
   "nbconvert_exporter": "python",
   "pygments_lexer": "ipython3",
   "version": "3.12.5"
  }
 },
 "nbformat": 4,
 "nbformat_minor": 2
}
