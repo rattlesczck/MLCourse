{
 "cells": [
  {
   "cell_type": "code",
   "execution_count": 1,
   "metadata": {},
   "outputs": [
    {
     "name": "stdout",
     "output_type": "stream",
     "text": [
      "2\n"
     ]
    }
   ],
   "source": [
    "#Memory management in python\n",
    "# involves  reference counting, automatic garbage collection\n",
    "\n",
    "## Reference counting is when each object maintains a count of references pointing to it. when reference count drops to zero, the memory occupied \n",
    "## by the object is dropped/dealloacted\n",
    "\n",
    "import sys\n",
    "a = []\n",
    "print(sys.getrefcount(a)) \n",
    "# Output  = 2. one from 'a' and other from 'sys.getrecount()'\n"
   ]
  },
  {
   "cell_type": "code",
   "execution_count": null,
   "metadata": {},
   "outputs": [],
   "source": [
    "b = a\n",
    "print(sys.getrefcount(b))\n",
    "# output = 3. one from 'a', one from sys.getrefcount() and from 'b'\n"
   ]
  },
  {
   "cell_type": "code",
   "execution_count": 2,
   "metadata": {},
   "outputs": [],
   "source": [
    "# Garbage collection\n",
    "# includes a cyclic garbage collector tht handles reference cycles. \n",
    "# reference cycles is when objects reference each other which prevents reference count from becoming zero\n",
    "\n",
    "import gc \n",
    "\n",
    "# enable garbage collector\n",
    "gc.enable()\n",
    "\n",
    "#disable the garbage collector \n",
    "gc.disable()\n"
   ]
  },
  {
   "cell_type": "code",
   "execution_count": 3,
   "metadata": {},
   "outputs": [
    {
     "data": {
      "text/plain": [
       "179"
      ]
     },
     "execution_count": 3,
     "metadata": {},
     "output_type": "execute_result"
    }
   ],
   "source": [
    "# manually trigger the garbage collection\n",
    "gc.collect()\n",
    "# output: the number of unreachable variables\n"
   ]
  },
  {
   "cell_type": "code",
   "execution_count": 4,
   "metadata": {},
   "outputs": [
    {
     "name": "stdout",
     "output_type": "stream",
     "text": [
      "[{'collections': 174, 'collected': 1346, 'uncollectable': 0}, {'collections': 15, 'collected': 511, 'uncollectable': 0}, {'collections': 2, 'collected': 179, 'uncollectable': 0}]\n"
     ]
    }
   ],
   "source": [
    "#Get garbage collection stats\n",
    "print(gc.get_stats())"
   ]
  },
  {
   "cell_type": "code",
   "execution_count": 5,
   "metadata": {},
   "outputs": [
    {
     "name": "stdout",
     "output_type": "stream",
     "text": [
      "[]\n"
     ]
    }
   ],
   "source": [
    "# Get unreachable objects\n",
    "print(gc.garbage)"
   ]
  },
  {
   "cell_type": "code",
   "execution_count": 6,
   "metadata": {},
   "outputs": [
    {
     "name": "stdout",
     "output_type": "stream",
     "text": [
      "Object object1 created\n",
      "Object object2 created\n",
      "Object object1 deleted\n",
      "Object object2 deleted\n"
     ]
    },
    {
     "data": {
      "text/plain": [
       "555"
      ]
     },
     "execution_count": 6,
     "metadata": {},
     "output_type": "execute_result"
    }
   ],
   "source": [
    "class Myobject:\n",
    "    def __init__ (self,name):\n",
    "        self.name = name\n",
    "        print(f\"Object {self.name} created\")\n",
    "        \n",
    "    def __del__(self):\n",
    "        print(f\"Object {self.name} deleted\")\n",
    "        \n",
    "#create circular reference\n",
    "obj1 = Myobject(\"object1\")\n",
    "obj2 = Myobject(\"object2\")\n",
    "\n",
    "obj1.ref = obj2\n",
    "obj2.ref = obj1\n",
    "\n",
    "del obj1\n",
    "del obj2\n",
    "# but this wont b garbage collected bcuz of reference cycle\n",
    "\n",
    "#Thus we have to trigger the gc manually\n",
    "\n",
    "gc.collect()\n",
    "\n",
    "#after this function, gc will b enabled \n"
   ]
  },
  {
   "cell_type": "code",
   "execution_count": 7,
   "metadata": {},
   "outputs": [
    {
     "name": "stdout",
     "output_type": "stream",
     "text": [
      "0\n",
      "1\n",
      "2\n",
      "3\n",
      "4\n",
      "5\n",
      "6\n",
      "7\n",
      "8\n",
      "9\n",
      "10\n",
      "11\n"
     ]
    }
   ],
   "source": [
    "#using of Generators for memory effeciency\n",
    "# Allows you to create one item at a time, and only allows only one time in the memory at a time\n",
    "\n",
    "def generatenums(n):\n",
    "    for i in range(n):\n",
    "        yield i\n",
    "\n",
    "## using the generator\n",
    "for num in generatenums(20):\n",
    "    print(num)\n",
    "    if num > 10:\n",
    "        break"
   ]
  },
  {
   "cell_type": "code",
   "execution_count": 9,
   "metadata": {},
   "outputs": [],
   "source": [
    "#Profiling memory usage with tracemalloc\n",
    "\n",
    "import tracemalloc\n",
    "\n",
    "def createlist():\n",
    "    return [i for i in range(10000)]\n",
    "\n",
    "def main():\n",
    "    tracemalloc.start()\n",
    "    \n",
    "    createlist()\n",
    "    \n",
    "    snapshot = tracemalloc.take_snapshot()\n",
    "    topstats = snapshot.statistics('lineno')\n",
    "    \n",
    "    print(\"[ Top 10 ]\")\n",
    "    \n",
    "    for stat in topstats[:10]: #print top 10 resultsm\n",
    "        print(stat) "
   ]
  },
  {
   "cell_type": "code",
   "execution_count": 10,
   "metadata": {},
   "outputs": [
    {
     "name": "stdout",
     "output_type": "stream",
     "text": [
      "[ Top 10 ]\n"
     ]
    }
   ],
   "source": [
    "main()"
   ]
  }
 ],
 "metadata": {
  "kernelspec": {
   "display_name": "first",
   "language": "python",
   "name": "python3"
  },
  "language_info": {
   "codemirror_mode": {
    "name": "ipython",
    "version": 3
   },
   "file_extension": ".py",
   "mimetype": "text/x-python",
   "name": "python",
   "nbconvert_exporter": "python",
   "pygments_lexer": "ipython3",
   "version": "3.12.5"
  }
 },
 "nbformat": 4,
 "nbformat_minor": 2
}
