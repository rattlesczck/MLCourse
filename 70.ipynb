{
 "cells": [
  {
   "cell_type": "code",
   "execution_count": 3,
   "metadata": {},
   "outputs": [
    {
     "name": "stdout",
     "output_type": "stream",
     "text": [
      "number 1\n",
      "number 2\n",
      "number 3\n",
      "number 4\n",
      "number 5\n",
      "number 6\n",
      "number 7\n",
      "number 8\n",
      "number 9\n",
      "number 10\n"
     ]
    }
   ],
   "source": [
    "from concurrent.futures import ThreadPoolExecutor\n",
    "\n",
    "import time\n",
    "\n",
    "def printnums(a):\n",
    "    time.sleep(1)\n",
    "    return f\"number {a}\"\n",
    "\n",
    "numbers =[1,2,3,4,5,6,7,8,9,10]\n",
    "\n",
    "with ThreadPoolExecutor(max_workers=3) as executor: # here threadpoolexecutor is used to run printnums on different numbers at the same time \n",
    "    results = executor.map(printnums, numbers) #maxworkers = 3 means tht at a time upto 3 tasks only can run at a time\n",
    "\n",
    "for result in results:\n",
    "    print(result)\n",
    "    \n"
   ]
  },
  {
   "cell_type": "code",
   "execution_count": 6,
   "metadata": {},
   "outputs": [],
   "source": [
    "# Multiprocessing using ProcessPoolExecutor\n",
    "\n",
    "from concurrent.futures import ProcessPoolExecutor\n",
    "import time\n",
    "\n",
    "def squarenums(a):\n",
    "    time.sleep(1)\n",
    "    return f\"Square of {a} is {a*a}\"\n",
    "\n",
    "numbers=[1,2,3,4,5,6,7,8,9,10]\n",
    "\n",
    "\n",
    "if __name__ == \"__main__\":\n",
    "    with ProcessPoolExecutor(max_workers=3) as executor:\n",
    "        result = executor.map(squarenums, numbers) #--> (function, parameter for the funtion)\n",
    "        \n",
    "    for result in results:\n",
    "        print(result)\n",
    "        \n",
    "    \n",
    "    \n",
    "    "
   ]
  }
 ],
 "metadata": {
  "kernelspec": {
   "display_name": "first",
   "language": "python",
   "name": "python3"
  },
  "language_info": {
   "codemirror_mode": {
    "name": "ipython",
    "version": 3
   },
   "file_extension": ".py",
   "mimetype": "text/x-python",
   "name": "python",
   "nbconvert_exporter": "python",
   "pygments_lexer": "ipython3",
   "version": "3.12.5"
  }
 },
 "nbformat": 4,
 "nbformat_minor": 2
}
